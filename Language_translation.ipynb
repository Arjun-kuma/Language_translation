{
 "cells": [
  {
   "cell_type": "code",
   "execution_count": 30,
   "metadata": {},
   "outputs": [
    {
     "name": "stdout",
     "output_type": "stream",
     "text": [
      "Translation: I'd like to apply to the bank for a mortgage loan.\n"
     ]
    }
   ],
   "source": [
    "import torch\n",
    "from transformers import MarianMTModel, MarianTokenizer\n",
    "\n",
    "# Load pre-trained model and tokenizer\n",
    "model_name = \"Helsinki-NLP/opus-mt-zh-en\"\n",
    "tokenizer = MarianTokenizer.from_pretrained(model_name)\n",
    "model = MarianMTModel.from_pretrained(model_name)\n",
    "\n",
    "# Define a function to translate text\n",
    "def translate_text(text):\n",
    "    # Encode the input text\n",
    "    inputs = tokenizer(text, return_tensors=\"pt\")\n",
    "\n",
    "    # Generate the translation\n",
    "    outputs = model.generate(**inputs)\n",
    "\n",
    "    # Decode the translation\n",
    "    translation = tokenizer.decode(outputs[0], skip_special_tokens=True)\n",
    "\n",
    "    return translation\n",
    "\n",
    "# Test the translation function\n",
    "chinese_text = \"我想向银行申请按揭贷款\"\n",
    "\n",
    "translation = translate_text(chinese_text)\n",
    "print(f\"Translation: {translation}\")"
   ]
  },
  {
   "cell_type": "code",
   "execution_count": 31,
   "metadata": {},
   "outputs": [
    {
     "name": "stdout",
     "output_type": "stream",
     "text": [
      "Translation: I want to apply for a mortgage from the bank\n"
     ]
    }
   ],
   "source": [
    "import torch\n",
    "from transformers import MarianMTModel, MarianTokenizer\n",
    "\n",
    "# Load pre-trained model and tokenizer\n",
    "model_name = \"Helsinki-NLP/opus-mt-fr-en\"\n",
    "tokenizer = MarianTokenizer.from_pretrained(model_name)\n",
    "model = MarianMTModel.from_pretrained(model_name)\n",
    "\n",
    "# Define a function to translate text\n",
    "def translate_text(text):\n",
    "    # Encode the input text\n",
    "    inputs = tokenizer(text, return_tensors=\"pt\")\n",
    "\n",
    "    # Generate the translation\n",
    "    outputs = model.generate(**inputs)\n",
    "\n",
    "    # Decode the translation\n",
    "    translation = tokenizer.decode(outputs[0], skip_special_tokens=True)\n",
    "\n",
    "    return translation\n",
    "\n",
    "# Test the translation function\n",
    "chinese_text = \"Je souhaite demander un prêt hypothécaire auprès de la banque\"\n",
    "\n",
    "translation = translate_text(chinese_text)\n",
    "print(f\"Translation: {translation}\")"
   ]
  },
  {
   "cell_type": "code",
   "execution_count": 32,
   "metadata": {},
   "outputs": [
    {
     "name": "stdout",
     "output_type": "stream",
     "text": [
      "Translation: I'd like to apply to the bank for mortgages.\n"
     ]
    }
   ],
   "source": [
    "import torch\n",
    "from transformers import MarianMTModel, MarianTokenizer\n",
    "\n",
    "# Load pre-trained model and tokenizer\n",
    "model_name = \"Helsinki-NLP/opus-mt-ko-en\"\n",
    "tokenizer = MarianTokenizer.from_pretrained(model_name)\n",
    "model = MarianMTModel.from_pretrained(model_name)\n",
    "\n",
    "# Define a function to translate text\n",
    "def translate_text(text):\n",
    "    # Encode the input text\n",
    "    inputs = tokenizer(text, return_tensors=\"pt\")\n",
    "\n",
    "    # Generate the translation\n",
    "    outputs = model.generate(**inputs)\n",
    "\n",
    "    # Decode the translation\n",
    "    translation = tokenizer.decode(outputs[0], skip_special_tokens=True)\n",
    "\n",
    "    return translation\n",
    "\n",
    "# Test the translation function\n",
    "chinese_text = \"은행에 주택담보대출을 신청하고 싶습니다.\"\n",
    "\n",
    "translation = translate_text(chinese_text)\n",
    "print(f\"Translation: {translation}\")"
   ]
  },
  {
   "cell_type": "code",
   "execution_count": 33,
   "metadata": {},
   "outputs": [
    {
     "name": "stdout",
     "output_type": "stream",
     "text": [
      "Translation: I'd like to ask a bank for a mortgage.\n"
     ]
    }
   ],
   "source": [
    "import torch\n",
    "from transformers import MarianMTModel, MarianTokenizer\n",
    "\n",
    "# Load pre-trained model and tokenizer\n",
    "model_name = \"Helsinki-NLP/opus-mt-ja-en\"\n",
    "tokenizer = MarianTokenizer.from_pretrained(model_name)\n",
    "model = MarianMTModel.from_pretrained(model_name)\n",
    "\n",
    "# Define a function to translate text\n",
    "def translate_text(text):\n",
    "    # Encode the input text\n",
    "    inputs = tokenizer(text, return_tensors=\"pt\")\n",
    "\n",
    "    # Generate the translation\n",
    "    outputs = model.generate(**inputs)\n",
    "\n",
    "    # Decode the translation\n",
    "    translation = tokenizer.decode(outputs[0], skip_special_tokens=True)\n",
    "\n",
    "    return translation\n",
    "\n",
    "# Test the translation function\n",
    "chinese_text = \"銀行に住宅ローンを申し込みたいのですが\"\n",
    "\n",
    "translation = translate_text(chinese_text)\n",
    "print(f\"Translation: {translation}\")"
   ]
  }
 ],
 "metadata": {
  "kernelspec": {
   "display_name": "Python 3",
   "language": "python",
   "name": "python3"
  },
  "language_info": {
   "codemirror_mode": {
    "name": "ipython",
    "version": 3
   },
   "file_extension": ".py",
   "mimetype": "text/x-python",
   "name": "python",
   "nbconvert_exporter": "python",
   "pygments_lexer": "ipython3",
   "version": "3.7.6"
  }
 },
 "nbformat": 4,
 "nbformat_minor": 4
}
